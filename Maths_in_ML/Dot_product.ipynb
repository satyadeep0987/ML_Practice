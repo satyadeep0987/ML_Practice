{
  "cells": [
    {
      "cell_type": "code",
      "execution_count": 5,
      "metadata": {
        "id": "KNZy-Md7vU2d"
      },
      "outputs": [],
      "source": [
        "import numpy as np\n",
        "import torch\n",
        "import tensorflow as tf"
      ]
    },
    {
      "cell_type": "code",
      "execution_count": 7,
      "metadata": {
        "id": "VFOtj9Wkwlkr"
      },
      "outputs": [],
      "source": [
        "# Creating a numpy array\n",
        "x = np.array([2,3,5])\n",
        "# crating a torch tensor  vector\n",
        "xpt = torch.tensor([2,3,5.]) \n",
        "# craring a tenseflow variable\n",
        "xtf = tf.Variable([2,3,5.])"
      ]
    },
    {
      "cell_type": "code",
      "execution_count": 8,
      "metadata": {
        "colab": {
          "base_uri": "https://localhost:8080/"
        },
        "id": "heLyDFHy5Ydu",
        "outputId": "ab657bef-ceaf-41b8-d445-17045f25c466"
      },
      "outputs": [
        {
          "data": {
            "text/plain": [
              "array([2, 3, 5])"
            ]
          },
          "execution_count": 8,
          "metadata": {},
          "output_type": "execute_result"
        }
      ],
      "source": [
        "x"
      ]
    },
    {
      "cell_type": "code",
      "execution_count": 9,
      "metadata": {
        "colab": {
          "base_uri": "https://localhost:8080/"
        },
        "id": "rrrlaXvT5bQn",
        "outputId": "2d5a957b-f771-4691-a08f-9264f6da57b5"
      },
      "outputs": [
        {
          "data": {
            "text/plain": [
              "tensor([2., 3., 5.])"
            ]
          },
          "execution_count": 9,
          "metadata": {},
          "output_type": "execute_result"
        }
      ],
      "source": [
        "xpt"
      ]
    },
    {
      "cell_type": "code",
      "execution_count": 11,
      "metadata": {
        "colab": {
          "base_uri": "https://localhost:8080/"
        },
        "id": "ruy9DGLv5c5u",
        "outputId": "c1543ceb-ebb0-482a-f4ff-18c88b796933"
      },
      "outputs": [
        {
          "data": {
            "text/plain": [
              "<tf.Variable 'Variable:0' shape=(3,) dtype=float32, numpy=array([2., 3., 5.], dtype=float32)>"
            ]
          },
          "execution_count": 11,
          "metadata": {},
          "output_type": "execute_result"
        }
      ],
      "source": [
        "xtf"
      ]
    },
    {
      "cell_type": "code",
      "execution_count": 12,
      "metadata": {
        "colab": {
          "base_uri": "https://localhost:8080/"
        },
        "id": "snc1Uv185e2m",
        "outputId": "c440ad5c-8607-4b01-d1ce-ddae8ee7c753"
      },
      "outputs": [
        {
          "data": {
            "text/plain": [
              "array([3, 4, 6])"
            ]
          },
          "execution_count": 12,
          "metadata": {},
          "output_type": "execute_result"
        }
      ],
      "source": [
        "y = x + 1\n",
        "y"
      ]
    },
    {
      "cell_type": "code",
      "execution_count": 13,
      "metadata": {
        "colab": {
          "base_uri": "https://localhost:8080/"
        },
        "id": "iArdiXF55rba",
        "outputId": "ead44ce2-e047-4435-f14e-a3215fc8ab9b"
      },
      "outputs": [
        {
          "data": {
            "text/plain": [
              "48"
            ]
          },
          "execution_count": 13,
          "metadata": {},
          "output_type": "execute_result"
        }
      ],
      "source": [
        "np.dot(x,y)"
      ]
    },
    {
      "cell_type": "code",
      "execution_count": 14,
      "metadata": {
        "colab": {
          "base_uri": "https://localhost:8080/"
        },
        "id": "1-aH80bo5uwA",
        "outputId": "0ea91be4-b24f-4e75-872d-8e1fc78acc44"
      },
      "outputs": [
        {
          "data": {
            "text/plain": [
              "tensor([9., 6., 5.])"
            ]
          },
          "execution_count": 14,
          "metadata": {},
          "output_type": "execute_result"
        }
      ],
      "source": [
        "# crating a pytorch tensor variable\n",
        "ypt = torch.tensor([9,6,5.])\n",
        "ypt"
      ]
    },
    {
      "cell_type": "code",
      "execution_count": 15,
      "metadata": {
        "colab": {
          "base_uri": "https://localhost:8080/"
        },
        "id": "ibg0DR8O5_0J",
        "outputId": "cc01c85e-eea1-429f-87a1-188d3c16e944"
      },
      "outputs": [
        {
          "data": {
            "text/plain": [
              "tensor(61.)"
            ]
          },
          "execution_count": 15,
          "metadata": {},
          "output_type": "execute_result"
        }
      ],
      "source": [
        "torch.dot(xpt,ypt)"
      ]
    },
    {
      "cell_type": "code",
      "execution_count": 17,
      "metadata": {
        "colab": {
          "base_uri": "https://localhost:8080/"
        },
        "id": "cGwxp1A46Eqh",
        "outputId": "1a47a041-be05-450e-8cf0-1696553558b2"
      },
      "outputs": [
        {
          "data": {
            "text/plain": [
              "<tf.Variable 'Variable:0' shape=(3,) dtype=float32, numpy=array([9., 6., 5.], dtype=float32)>"
            ]
          },
          "execution_count": 17,
          "metadata": {},
          "output_type": "execute_result"
        }
      ],
      "source": [
        "# creating a tensor variable with tensorflow\n",
        "ytf = tf.Variable([9,6,5.])\n",
        "ytf"
      ]
    },
    {
      "cell_type": "code",
      "execution_count": 19,
      "metadata": {
        "colab": {
          "base_uri": "https://localhost:8080/"
        },
        "id": "fEQ0G5j-6Vi6",
        "outputId": "d8c46b6b-94b7-4d66-d464-05e52af309e7"
      },
      "outputs": [
        {
          "data": {
            "text/plain": [
              "<tf.Tensor: shape=(), dtype=float32, numpy=61.0>"
            ]
          },
          "execution_count": 19,
          "metadata": {},
          "output_type": "execute_result"
        }
      ],
      "source": [
        "# usinfg teditional metjod for dot product in tensorflow multipication then add\n",
        "tf.reduce_sum(tf.multiply(xtf,ytf))"
      ]
    },
    {
      "cell_type": "code",
      "execution_count": 22,
      "metadata": {
        "colab": {
          "base_uri": "https://localhost:8080/"
        },
        "id": "TogL5kdF6obk",
        "outputId": "97240c7b-bc64-4d68-d16f-51039e0ebd5f"
      },
      "outputs": [
        {
          "data": {
            "text/plain": [
              "<tf.Tensor: shape=(), dtype=float32, numpy=61.0>"
            ]
          },
          "execution_count": 22,
          "metadata": {},
          "output_type": "execute_result"
        }
      ],
      "source": [
        "# dot producrt using tenflow varibale\n",
        "tf.tensordot(xtf, ytf, 1)"
      ]
    },
    {
      "cell_type": "markdown",
      "metadata": {},
      "source": [
        "Orthogonal Vector"
      ]
    },
    {
      "cell_type": "code",
      "execution_count": 1,
      "metadata": {
        "id": "r0uZjbFg6-GL"
      },
      "outputs": [
        {
          "data": {
            "text/plain": [
              "0"
            ]
          },
          "execution_count": 1,
          "metadata": {},
          "output_type": "execute_result"
        }
      ],
      "source": [
        "import numpy as np\n",
        "i = np.array([1,0])\n",
        "j = np.array([0,1])\n",
        "np.dot(i, j)"
      ]
    }
  ],
  "metadata": {
    "colab": {
      "name": "Dot_product.ipynb",
      "provenance": []
    },
    "kernelspec": {
      "display_name": "Python 3.10.4 ('Virtual_Env': venv)",
      "language": "python",
      "name": "python3"
    },
    "language_info": {
      "codemirror_mode": {
        "name": "ipython",
        "version": 3
      },
      "file_extension": ".py",
      "mimetype": "text/x-python",
      "name": "python",
      "nbconvert_exporter": "python",
      "pygments_lexer": "ipython3",
      "version": "3.10.4"
    },
    "orig_nbformat": 4,
    "vscode": {
      "interpreter": {
        "hash": "f2ee1acc9f163cfb8e193a49ad04bc4a923b10f1474ebc1fec6ec47abaff0b58"
      }
    }
  },
  "nbformat": 4,
  "nbformat_minor": 0
}
